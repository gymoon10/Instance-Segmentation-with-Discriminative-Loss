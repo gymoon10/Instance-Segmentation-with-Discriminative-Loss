{
 "cells": [
  {
   "cell_type": "code",
   "execution_count": 1,
   "id": "508fed3b",
   "metadata": {},
   "outputs": [],
   "source": [
    "import argparse\n",
    "import numpy as np\n",
    "from PIL import Image\n",
    "import os\n",
    "import glob"
   ]
  },
  {
   "cell_type": "code",
   "execution_count": 14,
   "id": "235235b3",
   "metadata": {},
   "outputs": [],
   "source": [
    "pred_dir = 'E:/discriminative/models/cbam_4/Outputs'\n",
    "img_dir = 'E:/CVPPP2017_LSC_training/images/A1'\n",
    "\n",
    "names = np.loadtxt('E:/CVPPP2017_LSC_training/images/processed/CVPPP/validation_image_paths2.txt',\n",
    "                       dtype='str', delimiter=',')\n",
    "names = np.array([os.path.splitext(os.path.basename(n))[0] for n in names])\n",
    "\n",
    "n_objects_gts = np.loadtxt(\n",
    "        'E:/CVPPP2017_LSC_training/images/processed/CVPPP/number_of_instances.txt',\n",
    "        dtype='str',\n",
    "        delimiter=',')"
   ]
  },
  {
   "cell_type": "code",
   "execution_count": 15,
   "id": "c6c839f5",
   "metadata": {},
   "outputs": [],
   "source": [
    "def calc_dic(n_objects_gt, n_objects_pred):\n",
    "    return np.abs(n_objects_gt - n_objects_pred)\n",
    "\n",
    "\n",
    "def calc_dice(gt_seg, pred_seg):\n",
    "\n",
    "    nom = 2 * np.sum(gt_seg * pred_seg)\n",
    "    denom = np.sum(gt_seg) + np.sum(pred_seg)\n",
    "\n",
    "    dice = float(nom) / float(denom)\n",
    "    return dice\n",
    "\n",
    "\n",
    "def calc_bd(ins_seg_gt, ins_seg_pred):\n",
    "\n",
    "    gt_object_idxes = list(set(np.unique(ins_seg_gt)).difference([0]))\n",
    "    pred_object_idxes = list(set(np.unique(ins_seg_pred)).difference([0]))\n",
    "\n",
    "    best_dices = []\n",
    "    for gt_idx in gt_object_idxes:\n",
    "        _gt_seg = (ins_seg_gt == gt_idx).astype('bool')\n",
    "        dices = []\n",
    "        for pred_idx in pred_object_idxes:\n",
    "            _pred_seg = (ins_seg_pred == pred_idx).astype('bool')\n",
    "\n",
    "            dice = calc_dice(_gt_seg, _pred_seg)\n",
    "            dices.append(dice)\n",
    "        best_dice = np.max(dices)\n",
    "        best_dices.append(best_dice)\n",
    "\n",
    "    best_dice = np.mean(best_dices)\n",
    "\n",
    "    return best_dice\n",
    "\n",
    "\n",
    "def calc_sbd(ins_seg_gt, ins_seg_pred):\n",
    "\n",
    "    _dice1 = calc_bd(ins_seg_gt, ins_seg_pred)\n",
    "    _dice2 = calc_bd(ins_seg_pred, ins_seg_gt)\n",
    "    return min(_dice1, _dice2)\n"
   ]
  },
  {
   "cell_type": "code",
   "execution_count": 16,
   "id": "9ca7c56e",
   "metadata": {},
   "outputs": [
    {
     "name": "stdout",
     "output_type": "stream",
     "text": [
      "MEAN SBD     :  0.8711944995926552\n",
      "MEAN |DIC|   :  0.75\n",
      "MEAN FG DICE :  0.9710963921009517\n"
     ]
    }
   ],
   "source": [
    "dics, sbds, fg_dices = [], [], []\n",
    "for name in names:\n",
    "\n",
    "    n_objects_gt = int(n_objects_gts[n_objects_gts[:, 0] == name.replace('_rgb', '')][0][1])\n",
    "    n_objects_pred = np.load(\n",
    "            '{}/{}.png-n_objects.npy'.format(pred_dir, name))\n",
    "    \n",
    "    ins_seg_gt = np.array(Image.open(\n",
    "        os.path.join(img_dir, name.replace('_rgb', '') + '_label.png')))\n",
    "    ins_seg_pred = np.array(Image.open(os.path.join(\n",
    "        pred_dir, name + '.png-ins_mask.png')))\n",
    "    \n",
    "    fg_seg_gt = np.array(\n",
    "            Image.open(\n",
    "                os.path.join(\n",
    "                    img_dir,\n",
    "                    name.replace('_rgb', '') +\n",
    "                    '_fg.png')))\n",
    "    \n",
    "    fg_seg_pred = np.array(Image.open(os.path.join(\n",
    "            pred_dir, name + '.png-fg_mask.png')))\n",
    "    \n",
    "    fg_seg_gt = (fg_seg_gt == 1).astype('bool')\n",
    "    fg_seg_pred = (fg_seg_pred == 255).astype('bool')\n",
    "\n",
    "    sbd = calc_sbd(ins_seg_gt, ins_seg_pred)\n",
    "    sbds.append(sbd)\n",
    "\n",
    "    dic = calc_dic(n_objects_gt, n_objects_pred)\n",
    "    dics.append(dic)\n",
    "\n",
    "    fg_dice = calc_dice(fg_seg_gt, fg_seg_pred)\n",
    "    fg_dices.append(fg_dice)\n",
    "    \n",
    "mean_dic = np.mean(dics)\n",
    "mean_sbd = np.mean(sbds)\n",
    "mean_fg_dice = np.mean(fg_dices)\n",
    "\n",
    "print ('MEAN SBD     : ', mean_sbd)\n",
    "print ('MEAN |DIC|   : ', mean_dic)\n",
    "print ('MEAN FG DICE : ', mean_fg_dice)"
   ]
  },
  {
   "cell_type": "code",
   "execution_count": null,
   "id": "756f8a0f",
   "metadata": {},
   "outputs": [],
   "source": []
  }
 ],
 "metadata": {
  "kernelspec": {
   "display_name": "Python 3 (ipykernel)",
   "language": "python",
   "name": "python3"
  },
  "language_info": {
   "codemirror_mode": {
    "name": "ipython",
    "version": 3
   },
   "file_extension": ".py",
   "mimetype": "text/x-python",
   "name": "python",
   "nbconvert_exporter": "python",
   "pygments_lexer": "ipython3",
   "version": "3.7.11"
  }
 },
 "nbformat": 4,
 "nbformat_minor": 5
}
