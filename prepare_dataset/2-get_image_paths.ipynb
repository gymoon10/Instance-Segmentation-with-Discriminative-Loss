{
 "cells": [
  {
   "cell_type": "code",
   "execution_count": null,
   "id": "1e5db6ab",
   "metadata": {},
   "outputs": [],
   "source": [
    "import os\n",
    "import numpy as np\n",
    "\n",
    "file = 'A1'\n",
    "\n",
    "IMG_DIR = f'E:/CVPPP2017_LSC_training/images/{file}'\n",
    "\n",
    "METADATA_OUTPUT_DIR = 'E:/CVPPP2017_LSC_training/images/processed/CVPPP/metadata'\n",
    "\n",
    "SUBSETS = ['train', 'val']\n",
    "SUBSET_NAMES= ['training', 'validation']\n",
    "\n",
    "for si, subset in enumerate(SUBSETS):\n",
    "    lst = os.path.join(METADATA_OUTPUT_DIR, SUBSET_NAMES[si] + '.lst')\n",
    "    image_names = np.loadtxt(lst, dtype='str', delimiter=',')\n",
    "\n",
    "    image_paths = []\n",
    "    for image_name in image_names:\n",
    "        _dir = image_name.split('_')[0]\n",
    "        image_path = os.path.join(IMG_DIR, image_name + '_rgb.png')\n",
    "        image_paths.append(image_path)\n",
    "\n",
    "    np.savetxt(os.path.join(METADATA_OUTPUT_DIR, SUBSET_NAMES[si] + '_image_paths.txt'),\n",
    "               image_paths, fmt='%s', delimiter=',')"
   ]
  }
 ],
 "metadata": {
  "kernelspec": {
   "display_name": "Python 3 (ipykernel)",
   "language": "python",
   "name": "python3"
  },
  "language_info": {
   "codemirror_mode": {
    "name": "ipython",
    "version": 3
   },
   "file_extension": ".py",
   "mimetype": "text/x-python",
   "name": "python",
   "nbconvert_exporter": "python",
   "pygments_lexer": "ipython3",
   "version": "3.7.11"
  }
 },
 "nbformat": 4,
 "nbformat_minor": 5
}
