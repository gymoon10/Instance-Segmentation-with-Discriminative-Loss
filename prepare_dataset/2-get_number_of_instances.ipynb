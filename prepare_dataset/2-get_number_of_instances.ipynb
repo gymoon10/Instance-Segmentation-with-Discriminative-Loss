{
 "cells": [
  {
   "cell_type": "code",
   "execution_count": 1,
   "id": "d088f565",
   "metadata": {},
   "outputs": [],
   "source": [
    "import os\n",
    "import glob\n",
    "import numpy as np\n",
    "from PIL import Image\n",
    "\n",
    "file = 'A4'  # A1 ~ A4\n",
    "\n",
    "# annotations generated at 1-create_annotations.py\n",
    "ANN_DIR = f'E:/CVPPP2017_LSC_training/images/processed/{file}/instance-annotations'  \n",
    "\n",
    "OUTPUT_DIR = f'E:/CVPPP2017_LSC_training/images/processed/{file}'  \n",
    "\n",
    "annotation_files = glob.glob(os.path.join(ANN_DIR, '*.npy'))\n",
    "\n",
    "number_of_instances = []\n",
    "for f in annotation_files:\n",
    "    image_name = os.path.splitext(os.path.basename(f))[0]\n",
    "    n_instances = np.load(f).shape[-1]\n",
    "\n",
    "    number_of_instances.append([image_name, n_instances])\n",
    "\n",
    "np.savetxt(os.path.join(OUTPUT_DIR, 'number_of_instances.txt'),\n",
    "           number_of_instances, fmt='%s', delimiter=',')"
   ]
  },
  {
   "cell_type": "code",
   "execution_count": null,
   "id": "587cd28a",
   "metadata": {},
   "outputs": [],
   "source": []
  }
 ],
 "metadata": {
  "kernelspec": {
   "display_name": "Python 3 (ipykernel)",
   "language": "python",
   "name": "python3"
  },
  "language_info": {
   "codemirror_mode": {
    "name": "ipython",
    "version": 3
   },
   "file_extension": ".py",
   "mimetype": "text/x-python",
   "name": "python",
   "nbconvert_exporter": "python",
   "pygments_lexer": "ipython3",
   "version": "3.7.11"
  }
 },
 "nbformat": 4,
 "nbformat_minor": 5
}
